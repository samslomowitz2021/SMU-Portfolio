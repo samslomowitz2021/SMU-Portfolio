{
 "cells": [
  {
   "cell_type": "code",
   "execution_count": 1,
   "id": "239331cb",
   "metadata": {},
   "outputs": [],
   "source": [
    "from sqlalchemy import create_engine"
   ]
  },
  {
   "cell_type": "code",
   "execution_count": 2,
   "id": "f88b3783",
   "metadata": {},
   "outputs": [],
   "source": []
  },
  {
   "cell_type": "code",
   "execution_count": 3,
   "id": "a50ddaae",
   "metadata": {},
   "outputs": [],
   "source": [
    "connection = engine.connect()"
   ]
  },
  {
   "cell_type": "code",
   "execution_count": 16,
   "id": "c82b5ec4",
   "metadata": {},
   "outputs": [],
   "source": [
    "import seaborn as sns\n",
    "import pandas as pd\n",
    "import matplotlib.pyplot as plt"
   ]
  },
  {
   "cell_type": "code",
   "execution_count": 7,
   "id": "5e1bec97",
   "metadata": {},
   "outputs": [
    {
     "name": "stdout",
     "output_type": "stream",
     "text": [
      "(10001, 60117, datetime.datetime(2022, 2, 24, 14, 9, 2, 260054))\n",
      "(10002, 65828, datetime.datetime(2022, 2, 24, 14, 9, 2, 260054))\n",
      "(10003, 40006, datetime.datetime(2022, 2, 24, 14, 9, 2, 260054))\n",
      "(10004, 40054, datetime.datetime(2022, 2, 24, 14, 9, 2, 260054))\n",
      "(10005, 78228, datetime.datetime(2022, 2, 24, 14, 9, 2, 260054))\n",
      "(10006, 40000, datetime.datetime(2022, 2, 24, 14, 9, 2, 260054))\n",
      "(10007, 56724, datetime.datetime(2022, 2, 24, 14, 9, 2, 260054))\n",
      "(10008, 46671, datetime.datetime(2022, 2, 24, 14, 9, 2, 260054))\n",
      "(10009, 60929, datetime.datetime(2022, 2, 24, 14, 9, 2, 260054))\n",
      "(10010, 72488, datetime.datetime(2022, 2, 24, 14, 9, 2, 260054))\n"
     ]
    }
   ],
   "source": [
    "query = \"\"\"\n",
    "        SELECT\n",
    "            *\n",
    "        FROM \n",
    "            salaries\n",
    "        Limit 10;\n",
    "        \"\"\"\n",
    "data = engine.execute(query)\n",
    "\n",
    "for record in data:\n",
    "    print(record)"
   ]
  },
  {
   "cell_type": "code",
   "execution_count": 12,
   "id": "a67c05e2",
   "metadata": {},
   "outputs": [],
   "source": [
    "df = pd.read_sql(query, engine)"
   ]
  },
  {
   "cell_type": "code",
   "execution_count": 14,
   "id": "62f63b09",
   "metadata": {},
   "outputs": [
    {
     "data": {
      "text/html": [
       "<div>\n",
       "<style scoped>\n",
       "    .dataframe tbody tr th:only-of-type {\n",
       "        vertical-align: middle;\n",
       "    }\n",
       "\n",
       "    .dataframe tbody tr th {\n",
       "        vertical-align: top;\n",
       "    }\n",
       "\n",
       "    .dataframe thead th {\n",
       "        text-align: right;\n",
       "    }\n",
       "</style>\n",
       "<table border=\"1\" class=\"dataframe\">\n",
       "  <thead>\n",
       "    <tr style=\"text-align: right;\">\n",
       "      <th></th>\n",
       "      <th>emp_no</th>\n",
       "      <th>salary</th>\n",
       "      <th>last_updated</th>\n",
       "    </tr>\n",
       "  </thead>\n",
       "  <tbody>\n",
       "    <tr>\n",
       "      <th>0</th>\n",
       "      <td>10001</td>\n",
       "      <td>60117</td>\n",
       "      <td>2022-02-24 14:09:02.260054</td>\n",
       "    </tr>\n",
       "    <tr>\n",
       "      <th>1</th>\n",
       "      <td>10002</td>\n",
       "      <td>65828</td>\n",
       "      <td>2022-02-24 14:09:02.260054</td>\n",
       "    </tr>\n",
       "    <tr>\n",
       "      <th>2</th>\n",
       "      <td>10003</td>\n",
       "      <td>40006</td>\n",
       "      <td>2022-02-24 14:09:02.260054</td>\n",
       "    </tr>\n",
       "    <tr>\n",
       "      <th>3</th>\n",
       "      <td>10004</td>\n",
       "      <td>40054</td>\n",
       "      <td>2022-02-24 14:09:02.260054</td>\n",
       "    </tr>\n",
       "    <tr>\n",
       "      <th>4</th>\n",
       "      <td>10005</td>\n",
       "      <td>78228</td>\n",
       "      <td>2022-02-24 14:09:02.260054</td>\n",
       "    </tr>\n",
       "    <tr>\n",
       "      <th>5</th>\n",
       "      <td>10006</td>\n",
       "      <td>40000</td>\n",
       "      <td>2022-02-24 14:09:02.260054</td>\n",
       "    </tr>\n",
       "    <tr>\n",
       "      <th>6</th>\n",
       "      <td>10007</td>\n",
       "      <td>56724</td>\n",
       "      <td>2022-02-24 14:09:02.260054</td>\n",
       "    </tr>\n",
       "    <tr>\n",
       "      <th>7</th>\n",
       "      <td>10008</td>\n",
       "      <td>46671</td>\n",
       "      <td>2022-02-24 14:09:02.260054</td>\n",
       "    </tr>\n",
       "    <tr>\n",
       "      <th>8</th>\n",
       "      <td>10009</td>\n",
       "      <td>60929</td>\n",
       "      <td>2022-02-24 14:09:02.260054</td>\n",
       "    </tr>\n",
       "    <tr>\n",
       "      <th>9</th>\n",
       "      <td>10010</td>\n",
       "      <td>72488</td>\n",
       "      <td>2022-02-24 14:09:02.260054</td>\n",
       "    </tr>\n",
       "  </tbody>\n",
       "</table>\n",
       "</div>"
      ],
      "text/plain": [
       "   emp_no  salary               last_updated\n",
       "0   10001   60117 2022-02-24 14:09:02.260054\n",
       "1   10002   65828 2022-02-24 14:09:02.260054\n",
       "2   10003   40006 2022-02-24 14:09:02.260054\n",
       "3   10004   40054 2022-02-24 14:09:02.260054\n",
       "4   10005   78228 2022-02-24 14:09:02.260054\n",
       "5   10006   40000 2022-02-24 14:09:02.260054\n",
       "6   10007   56724 2022-02-24 14:09:02.260054\n",
       "7   10008   46671 2022-02-24 14:09:02.260054\n",
       "8   10009   60929 2022-02-24 14:09:02.260054\n",
       "9   10010   72488 2022-02-24 14:09:02.260054"
      ]
     },
     "execution_count": 14,
     "metadata": {},
     "output_type": "execute_result"
    }
   ],
   "source": [
    "df"
   ]
  },
  {
   "cell_type": "code",
   "execution_count": 23,
   "id": "17f5696f",
   "metadata": {},
   "outputs": [
    {
     "data": {
      "image/png": "[encoded data removed]",
      "text/plain": [
       "<Figure size 720x360 with 1 Axes>"
      ]
     },
     "metadata": {
      "needs_background": "light"
     },
     "output_type": "display_data"
    }
   ],
   "source": [
    "##This get the bar plot\n",
    "plt.figure(figsize=(10,5))\n",
    "plt.hist(df.salary, color = \"#877B66\")\n",
    "plt.xlabel = (\"Salaries of Employees\")\n",
    "plt.ylabel = (\"Frequency\")\n",
    "plt.title = (\"Histogram of Employees' Salaries\")\n",
    "plt.show()"
   ]
  },
  {
   "cell_type": "code",
   "execution_count": 29,
   "id": "1bd990e3",
   "metadata": {},
   "outputs": [
    {
     "name": "stdout",
     "output_type": "stream",
     "text": [
      "(Decimal('48564.434447300771'), 'Assistant Engineer')\n",
      "(Decimal('48535.336511426337'), 'Engineer')\n",
      "(Decimal('51531.041666666667'), 'Manager')\n",
      "(Decimal('48506.799871095788'), 'Senior Engineer')\n",
      "(Decimal('58550.172704359929'), 'Senior Staff')\n",
      "(Decimal('58465.382850331521'), 'Staff')\n",
      "(Decimal('48582.896091893319'), 'Technique Leader')\n"
     ]
    }
   ],
   "source": [
    "query = \"\"\"\n",
    "        SELECT\n",
    "            avg(s.salary), t.title\n",
    "        FROM \n",
    "            salaries s\n",
    "        join employees e on s.emp_no = e.emp_no\n",
    "        join titles t on e.emp_title_id = t.title_id\n",
    "        group by t.title\n",
    "        Limit 10;\n",
    "        \"\"\"\n",
    "data = engine.execute(query)\n",
    "\n",
    "for record in data:\n",
    "    print(record)"
   ]
  },
  {
   "cell_type": "code",
   "execution_count": 30,
   "id": "2e22a3c8",
   "metadata": {},
   "outputs": [
    {
     "data": {
      "text/html": [
       "<div>\n",
       "<style scoped>\n",
       "    .dataframe tbody tr th:only-of-type {\n",
       "        vertical-align: middle;\n",
       "    }\n",
       "\n",
       "    .dataframe tbody tr th {\n",
       "        vertical-align: top;\n",
       "    }\n",
       "\n",
       "    .dataframe thead th {\n",
       "        text-align: right;\n",
       "    }\n",
       "</style>\n",
       "<table border=\"1\" class=\"dataframe\">\n",
       "  <thead>\n",
       "    <tr style=\"text-align: right;\">\n",
       "      <th></th>\n",
       "      <th>avg</th>\n",
       "      <th>title</th>\n",
       "    </tr>\n",
       "  </thead>\n",
       "  <tbody>\n",
       "    <tr>\n",
       "      <th>0</th>\n",
       "      <td>48564.434447</td>\n",
       "      <td>Assistant Engineer</td>\n",
       "    </tr>\n",
       "    <tr>\n",
       "      <th>1</th>\n",
       "      <td>48535.336511</td>\n",
       "      <td>Engineer</td>\n",
       "    </tr>\n",
       "    <tr>\n",
       "      <th>2</th>\n",
       "      <td>51531.041667</td>\n",
       "      <td>Manager</td>\n",
       "    </tr>\n",
       "    <tr>\n",
       "      <th>3</th>\n",
       "      <td>48506.799871</td>\n",
       "      <td>Senior Engineer</td>\n",
       "    </tr>\n",
       "    <tr>\n",
       "      <th>4</th>\n",
       "      <td>58550.172704</td>\n",
       "      <td>Senior Staff</td>\n",
       "    </tr>\n",
       "    <tr>\n",
       "      <th>5</th>\n",
       "      <td>58465.382850</td>\n",
       "      <td>Staff</td>\n",
       "    </tr>\n",
       "    <tr>\n",
       "      <th>6</th>\n",
       "      <td>48582.896092</td>\n",
       "      <td>Technique Leader</td>\n",
       "    </tr>\n",
       "  </tbody>\n",
       "</table>\n",
       "</div>"
      ],
      "text/plain": [
       "            avg               title\n",
       "0  48564.434447  Assistant Engineer\n",
       "1  48535.336511            Engineer\n",
       "2  51531.041667             Manager\n",
       "3  48506.799871     Senior Engineer\n",
       "4  58550.172704        Senior Staff\n",
       "5  58465.382850               Staff\n",
       "6  48582.896092    Technique Leader"
      ]
     },
     "execution_count": 30,
     "metadata": {},
     "output_type": "execute_result"
    }
   ],
   "source": [
    "df = pd.read_sql(query, engine)\n",
    "df"
   ]
  },
  {
   "cell_type": "code",
   "execution_count": 35,
   "id": "748198bc",
   "metadata": {},
   "outputs": [
    {
     "data": {
      "text/plain": [
       "<Figure size 1080x720 with 0 Axes>"
      ]
     },
     "metadata": {},
     "output_type": "display_data"
    },
    {
     "data": {
      "image/png": "[encoded data removed]",
      "text/plain": [
       "<Figure size 432x288 with 1 Axes>"
      ]
     },
     "metadata": {
      "needs_background": "light"
     },
     "output_type": "display_data"
    }
   ],
   "source": [
    "##This get the bar plot\n",
    "\n",
    "plt.figure(figsize=(15,10))\n",
    "df.plot(x='title',y='avg',kind='bar', color=\"#539987\")\n",
    "plt_xlabel = (\"Title of Employees\")\n",
    "plt.ylabel = (\"Average Salaries\")\n",
    "plt.title = (\"Average Salaries of Employees by Title\")\n",
    "plt.show()"
   ]
  },
  {
   "cell_type": "code",
   "execution_count": null,
   "id": "4deb6e9c",
   "metadata": {},
   "outputs": [],
   "source": []
  },
  {
   "cell_type": "code",
   "execution_count": 36,
   "id": "1c9590bd",
   "metadata": {},
   "outputs": [],
   "source": [
    "connection.close()\n",
    "engine.dispose()"
   ]
  },
  {
   "cell_type": "code",
   "execution_count": null,
   "id": "ff392c65",
   "metadata": {},
   "outputs": [],
   "source": []
  }
 ],
 "metadata": {
  "kernelspec": {
   "display_name": "Python 3 (ipykernel)",
   "language": "python",
   "name": "python3"
  },
  "language_info": {
   "codemirror_mode": {
    "name": "ipython",
    "version": 3
   },
   "file_extension": ".py",
   "mimetype": "text/x-python",
   "name": "python",
   "nbconvert_exporter": "python",
   "pygments_lexer": "ipython3",
   "version": "3.9.7"
  }
 },
 "nbformat": 4,
 "nbformat_minor": 5
}
