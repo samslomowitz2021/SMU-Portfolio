{
 "cells": [
  {
   "cell_type": "markdown",
   "metadata": {},
   "source": [
    "# VacationPy\n",
    "----\n",
    "\n",
    "#### Note\n",
    "* Keep an eye on your API usage. Use https://developers.google.com/maps/reporting/gmp-reporting as reference for how to monitor your usage and billing.\n",
    "\n",
    "* Instructions have been included for each segment. You do not have to follow them exactly, but they are included to help you think through the steps."
   ]
  },
  {
   "cell_type": "code",
   "execution_count": 107,
   "metadata": {},
   "outputs": [],
   "source": [
    "# Dependencies and Setup\n",
    "import matplotlib.pyplot as plt\n",
    "import pandas as pd\n",
    "import numpy as np\n",
    "import requests\n",
    "import gmaps\n",
    "import os\n",
    "\n",
    "# Import API key\n",
    "from api_keys import g_key\n",
    "\n",
    "import pprint\n",
    "\n",
    "import json\n",
    "import time\n",
    "\n",
    "# Configure gmaps\n",
    "gmaps.configure(api_key=g_key)"
   ]
  },
  {
   "cell_type": "markdown",
   "metadata": {},
   "source": [
    "### Store Part I results into DataFrame\n",
    "* Load the csv exported in Part I to a DataFrame"
   ]
  },
  {
   "cell_type": "code",
   "execution_count": 108,
   "metadata": {},
   "outputs": [
    {
     "data": {
      "text/html": [
       "<div>\n",
       "<style scoped>\n",
       "    .dataframe tbody tr th:only-of-type {\n",
       "        vertical-align: middle;\n",
       "    }\n",
       "\n",
       "    .dataframe tbody tr th {\n",
       "        vertical-align: top;\n",
       "    }\n",
       "\n",
       "    .dataframe thead th {\n",
       "        text-align: right;\n",
       "    }\n",
       "</style>\n",
       "<table border=\"1\" class=\"dataframe\">\n",
       "  <thead>\n",
       "    <tr style=\"text-align: right;\">\n",
       "      <th></th>\n",
       "      <th>Unnamed: 0</th>\n",
       "      <th>City</th>\n",
       "      <th>Lat</th>\n",
       "      <th>Lng</th>\n",
       "      <th>Max Temp</th>\n",
       "      <th>Humidity</th>\n",
       "      <th>Cloudiness</th>\n",
       "      <th>Wind Speed</th>\n",
       "      <th>Country</th>\n",
       "      <th>Date</th>\n",
       "    </tr>\n",
       "  </thead>\n",
       "  <tbody>\n",
       "    <tr>\n",
       "      <th>0</th>\n",
       "      <td>0</td>\n",
       "      <td>Bluff</td>\n",
       "      <td>-46.6000</td>\n",
       "      <td>168.3333</td>\n",
       "      <td>57.79</td>\n",
       "      <td>61</td>\n",
       "      <td>100</td>\n",
       "      <td>16.51</td>\n",
       "      <td>NZ</td>\n",
       "      <td>1643863850</td>\n",
       "    </tr>\n",
       "    <tr>\n",
       "      <th>1</th>\n",
       "      <td>1</td>\n",
       "      <td>Punta Arenas</td>\n",
       "      <td>-53.1500</td>\n",
       "      <td>-70.9167</td>\n",
       "      <td>42.91</td>\n",
       "      <td>70</td>\n",
       "      <td>40</td>\n",
       "      <td>3.44</td>\n",
       "      <td>CL</td>\n",
       "      <td>1643863855</td>\n",
       "    </tr>\n",
       "    <tr>\n",
       "      <th>2</th>\n",
       "      <td>2</td>\n",
       "      <td>Jamestown</td>\n",
       "      <td>42.0970</td>\n",
       "      <td>-79.2353</td>\n",
       "      <td>38.52</td>\n",
       "      <td>71</td>\n",
       "      <td>100</td>\n",
       "      <td>4.61</td>\n",
       "      <td>US</td>\n",
       "      <td>1643863825</td>\n",
       "    </tr>\n",
       "    <tr>\n",
       "      <th>3</th>\n",
       "      <td>3</td>\n",
       "      <td>Mariehamn</td>\n",
       "      <td>60.0973</td>\n",
       "      <td>19.9348</td>\n",
       "      <td>19.26</td>\n",
       "      <td>93</td>\n",
       "      <td>100</td>\n",
       "      <td>1.14</td>\n",
       "      <td>AX</td>\n",
       "      <td>1643864261</td>\n",
       "    </tr>\n",
       "    <tr>\n",
       "      <th>4</th>\n",
       "      <td>4</td>\n",
       "      <td>Airai</td>\n",
       "      <td>-8.9266</td>\n",
       "      <td>125.4092</td>\n",
       "      <td>73.09</td>\n",
       "      <td>62</td>\n",
       "      <td>93</td>\n",
       "      <td>5.77</td>\n",
       "      <td>TL</td>\n",
       "      <td>1643863946</td>\n",
       "    </tr>\n",
       "  </tbody>\n",
       "</table>\n",
       "</div>"
      ],
      "text/plain": [
       "   Unnamed: 0          City      Lat       Lng  Max Temp  Humidity  \\\n",
       "0           0         Bluff -46.6000  168.3333     57.79        61   \n",
       "1           1  Punta Arenas -53.1500  -70.9167     42.91        70   \n",
       "2           2     Jamestown  42.0970  -79.2353     38.52        71   \n",
       "3           3     Mariehamn  60.0973   19.9348     19.26        93   \n",
       "4           4         Airai  -8.9266  125.4092     73.09        62   \n",
       "\n",
       "   Cloudiness  Wind Speed Country        Date  \n",
       "0         100       16.51      NZ  1643863850  \n",
       "1          40        3.44      CL  1643863855  \n",
       "2         100        4.61      US  1643863825  \n",
       "3         100        1.14      AX  1643864261  \n",
       "4          93        5.77      TL  1643863946  "
      ]
     },
     "execution_count": 108,
     "metadata": {},
     "output_type": "execute_result"
    }
   ],
   "source": [
    "file = pd.read_csv(\"WeatherPy.csv\")\n",
    "file.dropna(inplace = True) \n",
    "file.head()\n"
   ]
  },
  {
   "cell_type": "markdown",
   "metadata": {},
   "source": [
    "### Humidity Heatmap\n",
    "* Configure gmaps.\n",
    "* Use the Lat and Lng as locations and Humidity as the weight.\n",
    "* Add Heatmap layer to map."
   ]
  },
  {
   "cell_type": "code",
   "execution_count": 109,
   "metadata": {},
   "outputs": [],
   "source": [
    "# Store latitude and longitude in locations\n",
    "locations = file[[\"Lat\", \"Lng\"]]\n",
    "\n",
    "# Fill NaN values and convert to float\n",
    "rating = file[\"Humidity\"]"
   ]
  },
  {
   "cell_type": "code",
   "execution_count": 110,
   "metadata": {},
   "outputs": [
    {
     "data": {
      "application/vnd.jupyter.widget-view+json": {
       "model_id": "d12d48a3e50a4c82922b3e6c67116564",
       "version_major": 2,
       "version_minor": 0
      },
      "text/plain": [
       "Figure(layout=FigureLayout(height='420px'))"
      ]
     },
     "metadata": {},
     "output_type": "display_data"
    }
   ],
   "source": [
    "fig = gmaps.figure()\n",
    "\n",
    "# Create heat layer\n",
    "heat_layer = gmaps.heatmap_layer(locations, weights=rating, \n",
    "                                 dissipating=False, max_intensity=10,\n",
    "                                 point_radius=1)\n",
    "\n",
    "\n",
    "# Add layer\n",
    "fig.add_layer(heat_layer)\n",
    "\n",
    "# Display figure\n",
    "fig"
   ]
  },
  {
   "cell_type": "markdown",
   "metadata": {},
   "source": [
    "### Create new DataFrame fitting weather criteria\n",
    "* Narrow down the cities to fit weather conditions.\n",
    "* Drop any rows will null values."
   ]
  },
  {
   "cell_type": "code",
   "execution_count": 9,
   "metadata": {},
   "outputs": [
    {
     "data": {
      "text/plain": [
       "(4, 10)"
      ]
     },
     "execution_count": 9,
     "metadata": {},
     "output_type": "execute_result"
    }
   ],
   "source": [
    "mask = ((file[\"Max Temp\"] > 70) & (file[\"Max Temp\"] < 80))\n",
    "df10 = file.loc[mask,:]\n",
    "\n",
    "mask2 = df10[\"Wind Speed\"] < 10\n",
    "df11 = df10.loc[mask2,:]\n",
    "\n",
    "mask3 = df11[\"Cloudiness\"] == 0\n",
    "df12 = df11.loc[mask3,:]\n",
    "df12.reset_index(drop=True, inplace=True)\n",
    "df12.shape\n"
   ]
  },
  {
   "cell_type": "markdown",
   "metadata": {},
   "source": [
    "### Hotel Map\n",
    "* Store into variable named `hotel_df`.\n",
    "* Add a \"Hotel Name\" column to the DataFrame.\n",
    "* Set parameters to search for hotels with 5000 meters.\n",
    "* Hit the Google Places API for each city's coordinates.\n",
    "* Store the first Hotel result into the DataFrame.\n",
    "* Plot markers on top of the heatmap."
   ]
  },
  {
   "cell_type": "code",
   "execution_count": 10,
   "metadata": {},
   "outputs": [
    {
     "data": {
      "text/html": [
       "<div>\n",
       "<style scoped>\n",
       "    .dataframe tbody tr th:only-of-type {\n",
       "        vertical-align: middle;\n",
       "    }\n",
       "\n",
       "    .dataframe tbody tr th {\n",
       "        vertical-align: top;\n",
       "    }\n",
       "\n",
       "    .dataframe thead th {\n",
       "        text-align: right;\n",
       "    }\n",
       "</style>\n",
       "<table border=\"1\" class=\"dataframe\">\n",
       "  <thead>\n",
       "    <tr style=\"text-align: right;\">\n",
       "      <th></th>\n",
       "      <th>Unnamed: 0</th>\n",
       "      <th>City</th>\n",
       "      <th>Lat</th>\n",
       "      <th>Lng</th>\n",
       "      <th>Max Temp</th>\n",
       "      <th>Humidity</th>\n",
       "      <th>Cloudiness</th>\n",
       "      <th>Wind Speed</th>\n",
       "      <th>Country</th>\n",
       "      <th>Date</th>\n",
       "    </tr>\n",
       "  </thead>\n",
       "  <tbody>\n",
       "    <tr>\n",
       "      <th>0</th>\n",
       "      <td>139</td>\n",
       "      <td>Comodoro Rivadavia</td>\n",
       "      <td>-45.8667</td>\n",
       "      <td>-67.5000</td>\n",
       "      <td>73.26</td>\n",
       "      <td>38</td>\n",
       "      <td>0</td>\n",
       "      <td>5.75</td>\n",
       "      <td>AR</td>\n",
       "      <td>1643864059</td>\n",
       "    </tr>\n",
       "    <tr>\n",
       "      <th>1</th>\n",
       "      <td>287</td>\n",
       "      <td>Acajutla</td>\n",
       "      <td>13.5928</td>\n",
       "      <td>-89.8275</td>\n",
       "      <td>73.80</td>\n",
       "      <td>80</td>\n",
       "      <td>0</td>\n",
       "      <td>4.97</td>\n",
       "      <td>SV</td>\n",
       "      <td>1643864060</td>\n",
       "    </tr>\n",
       "    <tr>\n",
       "      <th>2</th>\n",
       "      <td>440</td>\n",
       "      <td>Le Vauclin</td>\n",
       "      <td>14.5452</td>\n",
       "      <td>-60.8388</td>\n",
       "      <td>75.85</td>\n",
       "      <td>88</td>\n",
       "      <td>0</td>\n",
       "      <td>6.91</td>\n",
       "      <td>MQ</td>\n",
       "      <td>1643864383</td>\n",
       "    </tr>\n",
       "    <tr>\n",
       "      <th>3</th>\n",
       "      <td>477</td>\n",
       "      <td>Barra de Tecoanapa</td>\n",
       "      <td>16.5167</td>\n",
       "      <td>-98.7500</td>\n",
       "      <td>73.26</td>\n",
       "      <td>76</td>\n",
       "      <td>0</td>\n",
       "      <td>5.84</td>\n",
       "      <td>MX</td>\n",
       "      <td>1643864395</td>\n",
       "    </tr>\n",
       "  </tbody>\n",
       "</table>\n",
       "</div>"
      ],
      "text/plain": [
       "   Unnamed: 0                City      Lat      Lng  Max Temp  Humidity  \\\n",
       "0         139  Comodoro Rivadavia -45.8667 -67.5000     73.26        38   \n",
       "1         287            Acajutla  13.5928 -89.8275     73.80        80   \n",
       "2         440          Le Vauclin  14.5452 -60.8388     75.85        88   \n",
       "3         477  Barra de Tecoanapa  16.5167 -98.7500     73.26        76   \n",
       "\n",
       "   Cloudiness  Wind Speed Country        Date  \n",
       "0           0        5.75      AR  1643864059  \n",
       "1           0        4.97      SV  1643864060  \n",
       "2           0        6.91      MQ  1643864383  \n",
       "3           0        5.84      MX  1643864395  "
      ]
     },
     "execution_count": 10,
     "metadata": {},
     "output_type": "execute_result"
    }
   ],
   "source": [
    "df12"
   ]
  },
  {
   "cell_type": "code",
   "execution_count": 74,
   "metadata": {},
   "outputs": [],
   "source": [
    "#https://towardsdatascience.com/how-to-use-the-google-places-api-for-location-analysis-and-more-17e48f8f25b1\n",
    "\n",
    "\n",
    "hotels1 = []\n",
    "params = {}\n",
    "  \n",
    "endpoint_url = \"https://maps.googleapis.com/maps/api/place/textsearch/json?query=hotels&location=-45.8667,-67.5000&radius=5000&key=\"\n",
    "         \n",
    "res = requests.get(endpoint_url, params = params)\n",
    "results =  json.loads(res.content)\n",
    "hotels1.extend(results['results'])\n",
    "time.sleep(2)\n",
    "while \"next_page_token\" in results:\n",
    "     params['pagetoken'] = results['next_page_token'],\n",
    "     res = requests.get(endpoint_url, params = params)\n",
    "     results = json.loads(res.content)\n",
    "     hotels1.extend(results['results'])\n",
    "     time.sleep(2)"
   ]
  },
  {
   "cell_type": "code",
   "execution_count": 84,
   "metadata": {},
   "outputs": [
    {
     "data": {
      "text/plain": [
       "'WAM Hotel Patagónico'"
      ]
     },
     "execution_count": 84,
     "metadata": {},
     "output_type": "execute_result"
    }
   ],
   "source": [
    "comodoro_rivadavia = hotels1[0][\"name\"]\n",
    "comodoro_rivadavia"
   ]
  },
  {
   "cell_type": "code",
   "execution_count": 76,
   "metadata": {},
   "outputs": [],
   "source": [
    "hotels2 = []\n",
    "params = {}\n",
    "  \n",
    "endpoint_url = \"https://maps.googleapis.com/maps/api/place/textsearch/json?query=hotels&location=13.5928,-89.8275&radius=5000&key=\"\n",
    "         \n",
    "res = requests.get(endpoint_url, params = params)\n",
    "results =  json.loads(res.content)\n",
    "hotels2.extend(results['results'])\n",
    "time.sleep(2)\n",
    "while \"next_page_token\" in results:\n",
    "     params['pagetoken'] = results['next_page_token'],\n",
    "     res = requests.get(endpoint_url, params = params)\n",
    "     results = json.loads(res.content)\n",
    "     hotels2.extend(results['results'])\n",
    "     time.sleep(2)"
   ]
  },
  {
   "cell_type": "code",
   "execution_count": 85,
   "metadata": {},
   "outputs": [
    {
     "data": {
      "text/plain": [
       "'Royal Decameron Salinitas'"
      ]
     },
     "execution_count": 85,
     "metadata": {},
     "output_type": "execute_result"
    }
   ],
   "source": [
    "acajutla = hotels2[0][\"name\"]\n",
    "acajutla"
   ]
  },
  {
   "cell_type": "code",
   "execution_count": 78,
   "metadata": {},
   "outputs": [],
   "source": [
    "hotels3 = []\n",
    "params = {}\n",
    "  \n",
    "endpoint_url = \"https://maps.googleapis.com/maps/api/place/textsearch/json?query=hotels&location=14.5452,-60.8388&radius=5000&key=\"\n",
    "         \n",
    "res = requests.get(endpoint_url, params = params)\n",
    "results =  json.loads(res.content)\n",
    "hotels3.extend(results['results'])\n",
    "time.sleep(2)\n",
    "while \"next_page_token\" in results:\n",
    "     params['pagetoken'] = results['next_page_token'],\n",
    "     res = requests.get(endpoint_url, params = params)\n",
    "     results = json.loads(res.content)\n",
    "     hotels3.extend(results['results'])\n",
    "     time.sleep(2)"
   ]
  },
  {
   "cell_type": "code",
   "execution_count": 86,
   "metadata": {},
   "outputs": [
    {
     "data": {
      "text/plain": [
       "'Karibea Sainte-Luce Hotel'"
      ]
     },
     "execution_count": 86,
     "metadata": {},
     "output_type": "execute_result"
    }
   ],
   "source": [
    "le_vauclin = hotels3[0][\"name\"]\n",
    "le_vauclin"
   ]
  },
  {
   "cell_type": "code",
   "execution_count": 80,
   "metadata": {},
   "outputs": [],
   "source": [
    "hotels4 = []\n",
    "params = {}\n",
    "  \n",
    "endpoint_url = \"https://maps.googleapis.com/maps/api/place/textsearch/json?query=hotels&location=16.5167,-98.7500&radius=5000&key=\"\n",
    "         \n",
    "res = requests.get(endpoint_url, params = params)\n",
    "results =  json.loads(res.content)\n",
    "hotels4.extend(results['results'])\n",
    "time.sleep(2)\n",
    "while \"next_page_token\" in results:\n",
    "     params['pagetoken'] = results['next_page_token'],\n",
    "     res = requests.get(endpoint_url, params = params)\n",
    "     results = json.loads(res.content)\n",
    "     hotels4.extend(results['results'])\n",
    "     time.sleep(2)"
   ]
  },
  {
   "cell_type": "code",
   "execution_count": 87,
   "metadata": {},
   "outputs": [
    {
     "data": {
      "text/plain": [
       "'Meson Casa de Piedra'"
      ]
     },
     "execution_count": 87,
     "metadata": {},
     "output_type": "execute_result"
    }
   ],
   "source": [
    "barra_de_tecoanapa = hotels4[0][\"name\"]\n",
    "barra_de_tecoanapa"
   ]
  },
  {
   "cell_type": "code",
   "execution_count": 104,
   "metadata": {},
   "outputs": [
    {
     "data": {
      "text/html": [
       "<div>\n",
       "<style scoped>\n",
       "    .dataframe tbody tr th:only-of-type {\n",
       "        vertical-align: middle;\n",
       "    }\n",
       "\n",
       "    .dataframe tbody tr th {\n",
       "        vertical-align: top;\n",
       "    }\n",
       "\n",
       "    .dataframe thead th {\n",
       "        text-align: right;\n",
       "    }\n",
       "</style>\n",
       "<table border=\"1\" class=\"dataframe\">\n",
       "  <thead>\n",
       "    <tr style=\"text-align: right;\">\n",
       "      <th></th>\n",
       "      <th>Unnamed: 0</th>\n",
       "      <th>City</th>\n",
       "      <th>Lat</th>\n",
       "      <th>Lng</th>\n",
       "      <th>Max Temp</th>\n",
       "      <th>Humidity</th>\n",
       "      <th>Cloudiness</th>\n",
       "      <th>Wind Speed</th>\n",
       "      <th>Country</th>\n",
       "      <th>Date</th>\n",
       "      <th>Hotel Name</th>\n",
       "    </tr>\n",
       "  </thead>\n",
       "  <tbody>\n",
       "    <tr>\n",
       "      <th>0</th>\n",
       "      <td>139</td>\n",
       "      <td>Comodoro Rivadavia</td>\n",
       "      <td>-45.8667</td>\n",
       "      <td>-67.5000</td>\n",
       "      <td>73.26</td>\n",
       "      <td>38</td>\n",
       "      <td>0</td>\n",
       "      <td>5.75</td>\n",
       "      <td>AR</td>\n",
       "      <td>1643864059</td>\n",
       "      <td>WAM Hotel Patagónico</td>\n",
       "    </tr>\n",
       "    <tr>\n",
       "      <th>1</th>\n",
       "      <td>287</td>\n",
       "      <td>Acajutla</td>\n",
       "      <td>13.5928</td>\n",
       "      <td>-89.8275</td>\n",
       "      <td>73.80</td>\n",
       "      <td>80</td>\n",
       "      <td>0</td>\n",
       "      <td>4.97</td>\n",
       "      <td>SV</td>\n",
       "      <td>1643864060</td>\n",
       "      <td>Royal Decameron Salinitas</td>\n",
       "    </tr>\n",
       "    <tr>\n",
       "      <th>2</th>\n",
       "      <td>440</td>\n",
       "      <td>Le Vauclin</td>\n",
       "      <td>14.5452</td>\n",
       "      <td>-60.8388</td>\n",
       "      <td>75.85</td>\n",
       "      <td>88</td>\n",
       "      <td>0</td>\n",
       "      <td>6.91</td>\n",
       "      <td>MQ</td>\n",
       "      <td>1643864383</td>\n",
       "      <td>Karibea Sainte-Luce Hotel</td>\n",
       "    </tr>\n",
       "    <tr>\n",
       "      <th>3</th>\n",
       "      <td>477</td>\n",
       "      <td>Barra de Tecoanapa</td>\n",
       "      <td>16.5167</td>\n",
       "      <td>-98.7500</td>\n",
       "      <td>73.26</td>\n",
       "      <td>76</td>\n",
       "      <td>0</td>\n",
       "      <td>5.84</td>\n",
       "      <td>MX</td>\n",
       "      <td>1643864395</td>\n",
       "      <td>Meson Casa de Piedra</td>\n",
       "    </tr>\n",
       "  </tbody>\n",
       "</table>\n",
       "</div>"
      ],
      "text/plain": [
       "   Unnamed: 0                City      Lat      Lng  Max Temp  Humidity  \\\n",
       "0         139  Comodoro Rivadavia -45.8667 -67.5000     73.26        38   \n",
       "1         287            Acajutla  13.5928 -89.8275     73.80        80   \n",
       "2         440          Le Vauclin  14.5452 -60.8388     75.85        88   \n",
       "3         477  Barra de Tecoanapa  16.5167 -98.7500     73.26        76   \n",
       "\n",
       "   Cloudiness  Wind Speed Country        Date                 Hotel Name  \n",
       "0           0        5.75      AR  1643864059       WAM Hotel Patagónico  \n",
       "1           0        4.97      SV  1643864060  Royal Decameron Salinitas  \n",
       "2           0        6.91      MQ  1643864383  Karibea Sainte-Luce Hotel  \n",
       "3           0        5.84      MX  1643864395       Meson Casa de Piedra  "
      ]
     },
     "execution_count": 104,
     "metadata": {},
     "output_type": "execute_result"
    }
   ],
   "source": [
    "hotel = [\"WAM Hotel Patagónico\",\"Royal Decameron Salinitas\",\"Karibea Sainte-Luce Hotel\",\"Meson Casa de Piedra\"]\n",
    "df55 = pd.DataFrame(hotel, columns = [\"Hotel Name\"])\n",
    "df55\n",
    "\n",
    "result10 = pd.concat([df12, df55], axis=1)\n",
    "result10\n"
   ]
  },
  {
   "cell_type": "code",
   "execution_count": 106,
   "metadata": {},
   "outputs": [
    {
     "data": {
      "text/html": [
       "<div>\n",
       "<style scoped>\n",
       "    .dataframe tbody tr th:only-of-type {\n",
       "        vertical-align: middle;\n",
       "    }\n",
       "\n",
       "    .dataframe tbody tr th {\n",
       "        vertical-align: top;\n",
       "    }\n",
       "\n",
       "    .dataframe thead th {\n",
       "        text-align: right;\n",
       "    }\n",
       "</style>\n",
       "<table border=\"1\" class=\"dataframe\">\n",
       "  <thead>\n",
       "    <tr style=\"text-align: right;\">\n",
       "      <th></th>\n",
       "      <th>Unnamed: 0</th>\n",
       "      <th>City</th>\n",
       "      <th>Lat</th>\n",
       "      <th>Lng</th>\n",
       "      <th>Max Temp</th>\n",
       "      <th>Humidity</th>\n",
       "      <th>Cloudiness</th>\n",
       "      <th>Wind Speed</th>\n",
       "      <th>Country</th>\n",
       "      <th>Date</th>\n",
       "      <th>Hotel Name</th>\n",
       "      <th>Hotel Name</th>\n",
       "    </tr>\n",
       "  </thead>\n",
       "  <tbody>\n",
       "    <tr>\n",
       "      <th>0</th>\n",
       "      <td>139</td>\n",
       "      <td>Comodoro Rivadavia</td>\n",
       "      <td>-45.8667</td>\n",
       "      <td>-67.5000</td>\n",
       "      <td>73.26</td>\n",
       "      <td>38</td>\n",
       "      <td>0</td>\n",
       "      <td>5.75</td>\n",
       "      <td>AR</td>\n",
       "      <td>1643864059</td>\n",
       "      <td>WAM Hotel Patagónico</td>\n",
       "      <td>WAM Hotel Patagónico</td>\n",
       "    </tr>\n",
       "    <tr>\n",
       "      <th>1</th>\n",
       "      <td>287</td>\n",
       "      <td>Acajutla</td>\n",
       "      <td>13.5928</td>\n",
       "      <td>-89.8275</td>\n",
       "      <td>73.80</td>\n",
       "      <td>80</td>\n",
       "      <td>0</td>\n",
       "      <td>4.97</td>\n",
       "      <td>SV</td>\n",
       "      <td>1643864060</td>\n",
       "      <td>Royal Decameron Salinitas</td>\n",
       "      <td>Royal Decameron Salinitas</td>\n",
       "    </tr>\n",
       "    <tr>\n",
       "      <th>2</th>\n",
       "      <td>440</td>\n",
       "      <td>Le Vauclin</td>\n",
       "      <td>14.5452</td>\n",
       "      <td>-60.8388</td>\n",
       "      <td>75.85</td>\n",
       "      <td>88</td>\n",
       "      <td>0</td>\n",
       "      <td>6.91</td>\n",
       "      <td>MQ</td>\n",
       "      <td>1643864383</td>\n",
       "      <td>Karibea Sainte-Luce Hotel</td>\n",
       "      <td>Karibea Sainte-Luce Hotel</td>\n",
       "    </tr>\n",
       "    <tr>\n",
       "      <th>3</th>\n",
       "      <td>477</td>\n",
       "      <td>Barra de Tecoanapa</td>\n",
       "      <td>16.5167</td>\n",
       "      <td>-98.7500</td>\n",
       "      <td>73.26</td>\n",
       "      <td>76</td>\n",
       "      <td>0</td>\n",
       "      <td>5.84</td>\n",
       "      <td>MX</td>\n",
       "      <td>1643864395</td>\n",
       "      <td>Meson Casa de Piedra</td>\n",
       "      <td>Meson Casa de Piedra</td>\n",
       "    </tr>\n",
       "  </tbody>\n",
       "</table>\n",
       "</div>"
      ],
      "text/plain": [
       "   Unnamed: 0                City      Lat      Lng  Max Temp  Humidity  \\\n",
       "0         139  Comodoro Rivadavia -45.8667 -67.5000     73.26        38   \n",
       "1         287            Acajutla  13.5928 -89.8275     73.80        80   \n",
       "2         440          Le Vauclin  14.5452 -60.8388     75.85        88   \n",
       "3         477  Barra de Tecoanapa  16.5167 -98.7500     73.26        76   \n",
       "\n",
       "   Cloudiness  Wind Speed Country        Date                 Hotel Name  \\\n",
       "0           0        5.75      AR  1643864059       WAM Hotel Patagónico   \n",
       "1           0        4.97      SV  1643864060  Royal Decameron Salinitas   \n",
       "2           0        6.91      MQ  1643864383  Karibea Sainte-Luce Hotel   \n",
       "3           0        5.84      MX  1643864395       Meson Casa de Piedra   \n",
       "\n",
       "                  Hotel Name  \n",
       "0       WAM Hotel Patagónico  \n",
       "1  Royal Decameron Salinitas  \n",
       "2  Karibea Sainte-Luce Hotel  \n",
       "3       Meson Casa de Piedra  "
      ]
     },
     "execution_count": 106,
     "metadata": {},
     "output_type": "execute_result"
    }
   ],
   "source": [
    "hotel_df5 = result10\n",
    "hotel_df5"
   ]
  },
  {
   "cell_type": "code",
   "execution_count": 111,
   "metadata": {},
   "outputs": [],
   "source": [
    "# NOTE: Do not change any of the code in this cell\n",
    "\n",
    "# Using the template add the hotel marks to the heatmap\n",
    "info_box_template = \"\"\"\n",
    "<dl>\n",
    "<dt>Name</dt><dd>{Hotel Name}</dd>\n",
    "<dt>City</dt><dd>{City}</dd>\n",
    "<dt>Country</dt><dd>{Country}</dd>\n",
    "</dl>\n",
    "\"\"\"\n",
    "# Store the DataFrame Row\n",
    "# NOTE: be sure to update with your DataFrame name\n",
    "hotel_info = [info_box_template.format(**row) for index, row in hotel_df.iterrows()]\n",
    "locations = hotel_df5[[\"Lat\", \"Lng\"]]"
   ]
  },
  {
   "cell_type": "code",
   "execution_count": 113,
   "metadata": {},
   "outputs": [
    {
     "data": {
      "text/plain": [
       "['\\n<dl>\\n<dt>Name</dt><dd>WAM Hotel Patagónico</dd>\\n<dt>City</dt><dd>Comodoro Rivadavia</dd>\\n<dt>Country</dt><dd>AR</dd>\\n</dl>\\n',\n",
       " '\\n<dl>\\n<dt>Name</dt><dd>Royal Decameron Salinitas</dd>\\n<dt>City</dt><dd>Acajutla</dd>\\n<dt>Country</dt><dd>SV</dd>\\n</dl>\\n',\n",
       " '\\n<dl>\\n<dt>Name</dt><dd>Karibea Sainte-Luce Hotel</dd>\\n<dt>City</dt><dd>Le Vauclin</dd>\\n<dt>Country</dt><dd>MQ</dd>\\n</dl>\\n',\n",
       " '\\n<dl>\\n<dt>Name</dt><dd>Meson Casa de Piedra</dd>\\n<dt>City</dt><dd>Barra de Tecoanapa</dd>\\n<dt>Country</dt><dd>MX</dd>\\n</dl>\\n']"
      ]
     },
     "execution_count": 113,
     "metadata": {},
     "output_type": "execute_result"
    }
   ],
   "source": [
    "hotel_info"
   ]
  },
  {
   "cell_type": "code",
   "execution_count": 112,
   "metadata": {},
   "outputs": [
    {
     "data": {
      "application/vnd.jupyter.widget-view+json": {
       "model_id": "d12d48a3e50a4c82922b3e6c67116564",
       "version_major": 2,
       "version_minor": 0
      },
      "text/plain": [
       "Figure(layout=FigureLayout(height='420px'))"
      ]
     },
     "metadata": {},
     "output_type": "display_data"
    }
   ],
   "source": [
    "# Add marker layer ontop of heat map\n",
    "\n",
    "\n",
    "# Display figure\n",
    "fig"
   ]
  },
  {
   "cell_type": "code",
   "execution_count": 117,
   "metadata": {},
   "outputs": [
    {
     "data": {
      "application/vnd.jupyter.widget-view+json": {
       "model_id": "cd4ed630e4024489b3d85c53ef3f1745",
       "version_major": 2,
       "version_minor": 0
      },
      "text/plain": [
       "Figure(layout=FigureLayout(height='420px'))"
      ]
     },
     "metadata": {},
     "output_type": "display_data"
    }
   ],
   "source": [
    "fig2 = gmaps.figure()\n",
    "locations2 = file[[\"Lat\", \"Lng\"]]\n",
    "rating2 = file[\"Humidity\"]\n",
    "# Create heat layer\n",
    "heat_layer = gmaps.heatmap_layer(locations2, weights=rating2, \n",
    "                                 dissipating=False, max_intensity=10,\n",
    "                                 point_radius=1)\n",
    "symbol_layer = gmaps.symbol_layer(\n",
    "            locations, info_box_content=hotel_info)\n",
    "\n",
    "# Add layer\n",
    "fig2.add_layer(heat_layer)\n",
    "fig2.add_layer(symbol_layer)\n",
    "\n",
    "\n",
    "# Display figure\n",
    "fig2"
   ]
  },
  {
   "cell_type": "code",
   "execution_count": null,
   "metadata": {},
   "outputs": [],
   "source": []
  }
 ],
 "metadata": {
  "kernelspec": {
   "display_name": "Python 3 (ipykernel)",
   "language": "python",
   "name": "python3"
  },
  "language_info": {
   "codemirror_mode": {
    "name": "ipython",
    "version": 3
   },
   "file_extension": ".py",
   "mimetype": "text/x-python",
   "name": "python",
   "nbconvert_exporter": "python",
   "pygments_lexer": "ipython3",
   "version": "3.9.7"
  },
  "latex_envs": {
   "LaTeX_envs_menu_present": true,
   "autoclose": false,
   "autocomplete": true,
   "bibliofile": "biblio.bib",
   "cite_by": "apalike",
   "current_citInitial": 1,
   "eqLabelWithNumbers": true,
   "eqNumInitial": 1,
   "hotkeys": {
    "equation": "Ctrl-E",
    "itemize": "Ctrl-I"
   },
   "labels_anchors": false,
   "latex_user_defs": false,
   "report_style_numbering": false,
   "user_envs_cfg": false
  }
 },
 "nbformat": 4,
 "nbformat_minor": 4
}
