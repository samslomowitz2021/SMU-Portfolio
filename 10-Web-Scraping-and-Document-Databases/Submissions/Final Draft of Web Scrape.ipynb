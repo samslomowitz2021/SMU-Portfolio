{
 "cells": [
  {
   "cell_type": "code",
   "execution_count": 1,
   "id": "c6b3284f",
   "metadata": {},
   "outputs": [],
   "source": [
    "import time\n",
    "from datetime import datetime\n",
    "\n",
    "from splinter import Browser\n",
    "from bs4 import BeautifulSoup\n",
    "from webdriver_manager.chrome import ChromeDriverManager\n",
    "import pandas as pd\n",
    "import numpy as np\n",
    "\n",
    "import requests"
   ]
  },
  {
   "cell_type": "code",
   "execution_count": 2,
   "id": "b9846f47",
   "metadata": {},
   "outputs": [
    {
     "name": "stderr",
     "output_type": "stream",
     "text": [
      "\n",
      "\n",
      "====== WebDriver manager ======\n",
      "Current google-chrome version is 99.0.4844\n",
      "Get LATEST chromedriver version for 99.0.4844 google-chrome\n",
      "Trying to download new driver from https://chromedriver.storage.googleapis.com/99.0.4844.51/chromedriver_win32.zip\n",
      "Driver has been saved in cache [C:\\Users\\samslomowitz\\.wdm\\drivers\\chromedriver\\win32\\99.0.4844.51]\n"
     ]
    }
   ],
   "source": [
    "# Setup splinter\n",
    "executable_path = {'executable_path': ChromeDriverManager().install()}\n",
    "browser = Browser('chrome', **executable_path, headless=False, incognito=False)"
   ]
  },
  {
   "cell_type": "code",
   "execution_count": 3,
   "id": "e0ca48a1",
   "metadata": {},
   "outputs": [],
   "source": [
    "browser.visit('https://jquery.com/download/')"
   ]
  },
  {
   "cell_type": "code",
   "execution_count": 4,
   "id": "eff7de67",
   "metadata": {},
   "outputs": [
    {
     "name": "stderr",
     "output_type": "stream",
     "text": [
      "C:\\Users\\samslomowitz\\anaconda3\\lib\\site-packages\\splinter\\driver\\webdriver\\__init__.py:517: FutureWarning: browser.find_link_by_partial_text is deprecated. Use browser.links.find_by_partial_text instead.\n",
      "  warnings.warn(\n"
     ]
    }
   ],
   "source": [
    "browser.click_link_by_partial_text('development jQuery 3.6.0')\n"
   ]
  },
  {
   "cell_type": "code",
   "execution_count": 5,
   "id": "77451c86",
   "metadata": {},
   "outputs": [],
   "source": [
    "browser.click_link_by_id(\"reload-button\")"
   ]
  },
  {
   "cell_type": "code",
   "execution_count": 6,
   "id": "7c5e9443",
   "metadata": {},
   "outputs": [],
   "source": [
    "browser.click_link_by_id(\"reload-button\")"
   ]
  },
  {
   "cell_type": "code",
   "execution_count": 7,
   "id": "0bf50f81",
   "metadata": {},
   "outputs": [],
   "source": [
    "browser.click_link_by_id(\"reload-button\")"
   ]
  },
  {
   "cell_type": "code",
   "execution_count": 8,
   "id": "083d6bc6",
   "metadata": {},
   "outputs": [],
   "source": [
    "browser.click_link_by_id(\"reload-button\")"
   ]
  },
  {
   "cell_type": "code",
   "execution_count": 9,
   "id": "1a244aed",
   "metadata": {},
   "outputs": [],
   "source": [
    "browser.click_link_by_id(\"reload-button\")"
   ]
  },
  {
   "cell_type": "code",
   "execution_count": 10,
   "id": "f0c4f8cf",
   "metadata": {},
   "outputs": [],
   "source": [
    "browser.click_link_by_id(\"reload-button\")"
   ]
  },
  {
   "cell_type": "code",
   "execution_count": 11,
   "id": "2f0d3773",
   "metadata": {},
   "outputs": [],
   "source": [
    "browser.click_link_by_id(\"reload-button\")"
   ]
  },
  {
   "cell_type": "code",
   "execution_count": 12,
   "id": "6efe1ef5",
   "metadata": {},
   "outputs": [],
   "source": [
    "browser.click_link_by_id(\"reload-button\")"
   ]
  },
  {
   "cell_type": "code",
   "execution_count": 13,
   "id": "c0dd3afc",
   "metadata": {},
   "outputs": [],
   "source": [
    "browser.click_link_by_id(\"reload-button\")"
   ]
  },
  {
   "cell_type": "code",
   "execution_count": 14,
   "id": "7f59433d",
   "metadata": {},
   "outputs": [],
   "source": [
    "browser.click_link_by_id(\"reload-button\")"
   ]
  },
  {
   "cell_type": "code",
   "execution_count": 35,
   "id": "84901fa7",
   "metadata": {},
   "outputs": [],
   "source": [
    "url = 'https://redplanetscience.com/'\n",
    "browser.visit(url)"
   ]
  },
  {
   "cell_type": "code",
   "execution_count": 36,
   "id": "d1c20e37",
   "metadata": {},
   "outputs": [],
   "source": [
    "response = requests.get(url)\n",
    "\n",
    "html = response.text"
   ]
  },
  {
   "cell_type": "code",
   "execution_count": 37,
   "id": "f297d529",
   "metadata": {},
   "outputs": [
    {
     "data": {
      "text/plain": [
       "'NASA Administrator Statement on Moon to Mars Initiative, FY 2021 Budget'"
      ]
     },
     "execution_count": 37,
     "metadata": {},
     "output_type": "execute_result"
    }
   ],
   "source": [
    "html = browser.html\n",
    "soup = BeautifulSoup(html)\n",
    "\n",
    "news_title = soup.find_all(\"div\", {\"class\":\"content_title\"})\n",
    "\n",
    "news_title2=soup.find_all(\"div\", {\"class\":\"content_title\"})[0].text\n",
    "news_title2"
   ]
  },
  {
   "cell_type": "code",
   "execution_count": 38,
   "id": "9de50ff1",
   "metadata": {},
   "outputs": [
    {
     "data": {
      "text/plain": [
       "\"Jim Bridenstine addresses NASA's ambitious plans for the coming years, including Mars Sample Return.\""
      ]
     },
     "execution_count": 38,
     "metadata": {},
     "output_type": "execute_result"
    }
   ],
   "source": [
    "news_para = soup.find_all(\"div\", {\"class\":\"article_teaser_body\"})\n",
    "\n",
    "news_para2=soup.find_all(\"div\", {\"class\":\"article_teaser_body\"})[0].text\n",
    "news_para2"
   ]
  },
  {
   "cell_type": "code",
   "execution_count": 39,
   "id": "7e3635ce",
   "metadata": {},
   "outputs": [],
   "source": [
    "url = 'https://spaceimages-mars.com/'\n",
    "browser.visit(url)\n",
    "\n"
   ]
  },
  {
   "cell_type": "code",
   "execution_count": 40,
   "id": "978a48ac",
   "metadata": {},
   "outputs": [
    {
     "name": "stderr",
     "output_type": "stream",
     "text": [
      "C:\\Users\\samslomowitz\\anaconda3\\lib\\site-packages\\splinter\\driver\\webdriver\\__init__.py:517: FutureWarning: browser.find_link_by_partial_text is deprecated. Use browser.links.find_by_partial_text instead.\n",
      "  warnings.warn(\n"
     ]
    }
   ],
   "source": [
    "browser.click_link_by_partial_text('FULL IMAGE')"
   ]
  },
  {
   "cell_type": "code",
   "execution_count": 41,
   "id": "1494dcda",
   "metadata": {},
   "outputs": [
    {
     "data": {
      "text/plain": [
       "'https://spaceimages-mars.com/image/featured/mars1.jpg'"
      ]
     },
     "execution_count": 41,
     "metadata": {},
     "output_type": "execute_result"
    }
   ],
   "source": [
    "html = browser.html\n",
    "soup = BeautifulSoup(html)\n",
    "\n",
    "featured_image_url = url + soup.find(\"img\", {\"class\":\"headerimage\"})[\"src\"]\n",
    "featured_image_url"
   ]
  },
  {
   "cell_type": "code",
   "execution_count": 42,
   "id": "d9c8e292",
   "metadata": {},
   "outputs": [
    {
     "data": {
      "text/plain": [
       "2"
      ]
     },
     "execution_count": 42,
     "metadata": {},
     "output_type": "execute_result"
    }
   ],
   "source": [
    "url =\"https://galaxyfacts-mars.com/\"\n",
    "\n",
    "tables = pd.read_html(url)\n",
    "len(tables)"
   ]
  },
  {
   "cell_type": "code",
   "execution_count": 43,
   "id": "39cfcc16",
   "metadata": {},
   "outputs": [],
   "source": [
    "df=tables[0]"
   ]
  },
  {
   "cell_type": "code",
   "execution_count": 65,
   "id": "bf7b2a2e",
   "metadata": {},
   "outputs": [
    {
     "data": {
      "text/plain": [
       "'https://marshemispheres.com/'"
      ]
     },
     "execution_count": 65,
     "metadata": {},
     "output_type": "execute_result"
    }
   ],
   "source": [
    "url = \"https://marshemispheres.com/\"\n",
    "browser.visit(url)\n",
    "\n",
    "html = browser.html\n",
    "soup = BeautifulSoup(html)\n",
    "url"
   ]
  },
  {
   "cell_type": "code",
   "execution_count": 66,
   "id": "57f20acc",
   "metadata": {},
   "outputs": [
    {
     "data": {
      "text/plain": [
       "4"
      ]
     },
     "execution_count": 66,
     "metadata": {},
     "output_type": "execute_result"
    }
   ],
   "source": [
    "information = soup.find_all(\"div\", {\"class\": \"item\"})\n",
    "len(information)"
   ]
  },
  {
   "cell_type": "code",
   "execution_count": 69,
   "id": "b5fcbb50",
   "metadata": {},
   "outputs": [
    {
     "data": {
      "text/plain": [
       "[{'title': 'Cerberus Hemisphere',\n",
       "  'img_url': 'https://marshemispheres.com/cerberus.html'},\n",
       " {'title': 'Schiaparelli Hemisphere',\n",
       "  'img_url': 'https://marshemispheres.com/schiaparelli.html'},\n",
       " {'title': 'Syrtis Major Hemisphere',\n",
       "  'img_url': 'https://marshemispheres.com/syrtis.html'},\n",
       " {'title': 'Valles Marineris Hemisphere',\n",
       "  'img_url': 'https://marshemispheres.com/valles.html'}]"
      ]
     },
     "execution_count": 69,
     "metadata": {},
     "output_type": "execute_result"
    }
   ],
   "source": [
    "list10 = []\n",
    "\n",
    "for x in information:\n",
    "   \n",
    "    link = x.find(\"div\", {\"class\", \"description\"}).find(\"a\")\n",
    "    url2 = url + link[\"href\"]\n",
    "    title = link.text.strip().strip(\"Enhanced\").strip()\n",
    "    \n",
    "   \n",
    "    browser.visit(url2)\n",
    "    html2 = browser.html\n",
    "    soup2 = BeautifulSoup(html2)\n",
    "    information_url = url + soup2.find(\"img\", {\"class\": \"wide-image\"})[\"src\"]\n",
    "    \n",
    "    data = {\"title\": title, \"img_url\": url2}\n",
    "    list10.append(data)\n",
    "list10"
   ]
  },
  {
   "cell_type": "code",
   "execution_count": 72,
   "id": "d8ff2beb",
   "metadata": {},
   "outputs": [],
   "source": [
    "data2 = {}\n",
    "data2[\"news_paragraph\"] = news_para2\n",
    "data2[\"news_title\"] = news_title2\n",
    "data2[\"featured_image_url\"] = featured_image_url\n",
    "data2[\"mars_facts\"] = df.to_html()\n",
    "data2[\"hemispheres\"] = list10"
   ]
  },
  {
   "cell_type": "code",
   "execution_count": 74,
   "id": "e7abbb35",
   "metadata": {},
   "outputs": [
    {
     "data": {
      "text/plain": [
       "{'news_paragraph': \"Jim Bridenstine addresses NASA's ambitious plans for the coming years, including Mars Sample Return.\",\n",
       " 'news_title': 'NASA Administrator Statement on Moon to Mars Initiative, FY 2021 Budget',\n",
       " 'featured_image_url': 'https://spaceimages-mars.com/image/featured/mars1.jpg',\n",
       " 'mars_facts': '<table border=\"1\" class=\"dataframe\">\\n  <thead>\\n    <tr style=\"text-align: right;\">\\n      <th></th>\\n      <th>0</th>\\n      <th>1</th>\\n      <th>2</th>\\n    </tr>\\n  </thead>\\n  <tbody>\\n    <tr>\\n      <th>0</th>\\n      <td>Mars - Earth Comparison</td>\\n      <td>Mars</td>\\n      <td>Earth</td>\\n    </tr>\\n    <tr>\\n      <th>1</th>\\n      <td>Diameter:</td>\\n      <td>6,779 km</td>\\n      <td>12,742 km</td>\\n    </tr>\\n    <tr>\\n      <th>2</th>\\n      <td>Mass:</td>\\n      <td>6.39 × 10^23 kg</td>\\n      <td>5.97 × 10^24 kg</td>\\n    </tr>\\n    <tr>\\n      <th>3</th>\\n      <td>Moons:</td>\\n      <td>2</td>\\n      <td>1</td>\\n    </tr>\\n    <tr>\\n      <th>4</th>\\n      <td>Distance from Sun:</td>\\n      <td>227,943,824 km</td>\\n      <td>149,598,262 km</td>\\n    </tr>\\n    <tr>\\n      <th>5</th>\\n      <td>Length of Year:</td>\\n      <td>687 Earth days</td>\\n      <td>365.24 days</td>\\n    </tr>\\n    <tr>\\n      <th>6</th>\\n      <td>Temperature:</td>\\n      <td>-87 to -5 °C</td>\\n      <td>-88 to 58°C</td>\\n    </tr>\\n  </tbody>\\n</table>',\n",
       " 'hemispheres': [{'title': 'Cerberus Hemisphere',\n",
       "   'img_url': 'https://marshemispheres.com/cerberus.html'},\n",
       "  {'title': 'Schiaparelli Hemisphere',\n",
       "   'img_url': 'https://marshemispheres.com/schiaparelli.html'},\n",
       "  {'title': 'Syrtis Major Hemisphere',\n",
       "   'img_url': 'https://marshemispheres.com/syrtis.html'},\n",
       "  {'title': 'Valles Marineris Hemisphere',\n",
       "   'img_url': 'https://marshemispheres.com/valles.html'}]}"
      ]
     },
     "execution_count": 74,
     "metadata": {},
     "output_type": "execute_result"
    }
   ],
   "source": [
    "data2"
   ]
  },
  {
   "cell_type": "code",
   "execution_count": null,
   "id": "bfbe09ea",
   "metadata": {},
   "outputs": [],
   "source": []
  },
  {
   "cell_type": "code",
   "execution_count": null,
   "id": "4be1d7a8",
   "metadata": {},
   "outputs": [],
   "source": []
  }
 ],
 "metadata": {
  "kernelspec": {
   "display_name": "Python 3 (ipykernel)",
   "language": "python",
   "name": "python3"
  },
  "language_info": {
   "codemirror_mode": {
    "name": "ipython",
    "version": 3
   },
   "file_extension": ".py",
   "mimetype": "text/x-python",
   "name": "python",
   "nbconvert_exporter": "python",
   "pygments_lexer": "ipython3",
   "version": "3.9.7"
  }
 },
 "nbformat": 4,
 "nbformat_minor": 5
}
